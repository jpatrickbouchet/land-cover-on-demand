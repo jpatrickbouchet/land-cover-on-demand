{
  "nbformat": 4,
  "nbformat_minor": 0,
  "metadata": {
    "colab": {
      "name": "2_Generate_training_data.ipynb",
      "version": "0.3.2",
      "provenance": [],
      "collapsed_sections": [],
      "include_colab_link": true
    },
    "kernelspec": {
      "name": "python3",
      "display_name": "Python 3"
    },
    "accelerator": "GPU"
  },
  "cells": [
    {
      "cell_type": "markdown",
      "metadata": {
        "id": "view-in-github",
        "colab_type": "text"
      },
      "source": [
        "<a href=\"https://colab.research.google.com/github/jpatrickbouchet/land-cover-on-demand/blob/master/2_Generate_training_data.ipynb\" target=\"_parent\"><img src=\"https://colab.research.google.com/assets/colab-badge.svg\" alt=\"Open In Colab\"/></a>"
      ]
    },
    {
      "cell_type": "code",
      "metadata": {
        "id": "446jh4kloxTT",
        "colab_type": "code",
        "colab": {}
      },
      "source": [
        "!pip install geopandas\n",
        "!pip install earthengine-api\n",
        "!pip install tensorflow==2.0.0-beta1"
      ],
      "execution_count": 0,
      "outputs": []
    },
    {
      "cell_type": "code",
      "metadata": {
        "id": "wrRFGyt1o8Tb",
        "colab_type": "code",
        "colab": {}
      },
      "source": [
        "!earthengine authenticate"
      ],
      "execution_count": 0,
      "outputs": []
    },
    {
      "cell_type": "code",
      "metadata": {
        "id": "OmoPbDYVnEva",
        "colab_type": "code",
        "colab": {}
      },
      "source": [
        "import os\n",
        "\n",
        "import json\n",
        "import geopandas as gpd\n",
        "\n",
        "# Import the Earth Engine API and initialize it.\n",
        "import ee\n",
        "ee.Initialize()\n",
        "\n",
        "import folium\n",
        "import tensorflow as tf"
      ],
      "execution_count": 0,
      "outputs": []
    },
    {
      "cell_type": "code",
      "metadata": {
        "id": "aw-AM2fbojl3",
        "colab_type": "code",
        "colab": {}
      },
      "source": [
        "# Define the URL format used for Earth Engine generated map tiles.\n",
        "EE_TILES = 'https://earthengine.googleapis.com/map/{mapid}/{{z}}/{{x}}/{{y}}?token={token}'"
      ],
      "execution_count": 0,
      "outputs": []
    },
    {
      "cell_type": "code",
      "metadata": {
        "id": "rspcoKH8o52z",
        "colab_type": "code",
        "colab": {}
      },
      "source": [
        "from google.colab import auth\n",
        "auth.authenticate_user()"
      ],
      "execution_count": 0,
      "outputs": []
    },
    {
      "cell_type": "markdown",
      "metadata": {
        "id": "R0czSABOqBfz",
        "colab_type": "text"
      },
      "source": [
        "## Setting dataset framework\n",
        "\n",
        "Note: To keep things simple for now, I will only work with the RGB band from Sentinel 2 (i.e. B4, B3, B2 bands)"
      ]
    },
    {
      "cell_type": "code",
      "metadata": {
        "id": "pHmboZ_HqC3x",
        "colab_type": "code",
        "outputId": "da85a021-9504-42bf-85da-7ce89546be01",
        "colab": {
          "base_uri": "https://localhost:8080/",
          "height": 391
        }
      },
      "source": [
        "BANDS = ['B4', 'B3', 'B2']\n",
        "\n",
        "def maskS2clouds(image):\n",
        "    qa = image.select('QA60')\n",
        "    \n",
        "    cloudBitMask = 1 << 10\n",
        "    cirrusBitMask = 1 << 11\n",
        "\n",
        "    mask = qa.bitwiseAnd(cloudBitMask).eq(0).And(qa.bitwiseAnd(cirrusBitMask).eq(0))\n",
        "\n",
        "    return image.updateMask(mask).select(BANDS).divide(10000)\n",
        "\n",
        "# Map the function over one year of data and take the median.\n",
        "# Load Sentinel-2 TOA reflectance data.\n",
        "sentinel2 = ee.ImageCollection('COPERNICUS/S2') \\\n",
        "                    .filterDate('2017-01-01', '2017-12-31') \\\n",
        "                    .filter(ee.Filter.lt('CLOUDY_PIXEL_PERCENTAGE', 20)) \\\n",
        "                    .map(maskS2clouds) \\\n",
        "                    .median()\n",
        "\n",
        "sentinel2.getInfo()"
      ],
      "execution_count": 0,
      "outputs": [
        {
          "output_type": "execute_result",
          "data": {
            "text/plain": [
              "{'bands': [{'crs': 'EPSG:4326',\n",
              "   'crs_transform': [1.0, 0.0, 0.0, 0.0, 1.0, 0.0],\n",
              "   'data_type': {'max': 6.553500175476074,\n",
              "    'min': 0.0,\n",
              "    'precision': 'float',\n",
              "    'type': 'PixelType'},\n",
              "   'id': 'B4'},\n",
              "  {'crs': 'EPSG:4326',\n",
              "   'crs_transform': [1.0, 0.0, 0.0, 0.0, 1.0, 0.0],\n",
              "   'data_type': {'max': 6.553500175476074,\n",
              "    'min': 0.0,\n",
              "    'precision': 'float',\n",
              "    'type': 'PixelType'},\n",
              "   'id': 'B3'},\n",
              "  {'crs': 'EPSG:4326',\n",
              "   'crs_transform': [1.0, 0.0, 0.0, 0.0, 1.0, 0.0],\n",
              "   'data_type': {'max': 6.553500175476074,\n",
              "    'min': 0.0,\n",
              "    'precision': 'float',\n",
              "    'type': 'PixelType'},\n",
              "   'id': 'B2'}],\n",
              " 'type': 'Image'}"
            ]
          },
          "metadata": {
            "tags": []
          },
          "execution_count": 7
        }
      ]
    },
    {
      "cell_type": "code",
      "metadata": {
        "id": "UaorT2jaTAX-",
        "colab_type": "code",
        "outputId": "13e3e975-1eef-404f-8968-35e783bd66d7",
        "colab": {
          "base_uri": "https://localhost:8080/",
          "height": 238
        }
      },
      "source": [
        "# Rescaling pixel values from 0 to 1 (current scale is 0 to 0.3)\n",
        "sentinel2 = sentinel2.unitScale(0, 0.3)\n",
        "sentinel2.getInfo()"
      ],
      "execution_count": 0,
      "outputs": [
        {
          "output_type": "execute_result",
          "data": {
            "text/plain": [
              "{'bands': [{'crs': 'EPSG:4326',\n",
              "   'crs_transform': [1.0, 0.0, 0.0, 0.0, 1.0, 0.0],\n",
              "   'data_type': {'precision': 'float', 'type': 'PixelType'},\n",
              "   'id': 'B4'},\n",
              "  {'crs': 'EPSG:4326',\n",
              "   'crs_transform': [1.0, 0.0, 0.0, 0.0, 1.0, 0.0],\n",
              "   'data_type': {'precision': 'float', 'type': 'PixelType'},\n",
              "   'id': 'B3'},\n",
              "  {'crs': 'EPSG:4326',\n",
              "   'crs_transform': [1.0, 0.0, 0.0, 0.0, 1.0, 0.0],\n",
              "   'data_type': {'precision': 'float', 'type': 'PixelType'},\n",
              "   'id': 'B2'}],\n",
              " 'type': 'Image'}"
            ]
          },
          "metadata": {
            "tags": []
          },
          "execution_count": 8
        }
      ]
    },
    {
      "cell_type": "code",
      "metadata": {
        "id": "rjjNSvSWswoy",
        "colab_type": "code",
        "colab": {}
      },
      "source": [
        "# Load Land Cover data uploaded as asset on Google Earth Engine\n",
        "landcover = ee.FeatureCollection('users/jpbouchet/land_cover_training')"
      ],
      "execution_count": 0,
      "outputs": []
    },
    {
      "cell_type": "code",
      "metadata": {
        "id": "C0AMA1Ubx8CF",
        "colab_type": "code",
        "outputId": "2a3bb09b-877f-40c6-86de-4d5a17c0d2e9",
        "colab": {
          "base_uri": "https://localhost:8080/",
          "height": 459
        }
      },
      "source": [
        "# Export regions for training and validation\n",
        "\n",
        "training_area_path = \"train_valid_area.geojson\"\n",
        "\n",
        "# Area of interest\n",
        "with tf.io.gfile.GFile(training_area_path, 'rb') as geojson:\n",
        "    training_area = json.load(geojson)\n",
        "    \n",
        "training_area"
      ],
      "execution_count": 0,
      "outputs": [
        {
          "output_type": "execute_result",
          "data": {
            "text/plain": [
              "{'features': [{'geometry': {'coordinates': [[[1.932220458984375,\n",
              "       47.72177305487703],\n",
              "      [2.63671875, 47.72177305487703],\n",
              "      [2.63671875, 48.11018210246057],\n",
              "      [1.932220458984375, 48.11018210246057],\n",
              "      [1.932220458984375, 47.72177305487703]]],\n",
              "    'type': 'Polygon'},\n",
              "   'properties': {'split': 'all_aoi'},\n",
              "   'type': 'Feature'},\n",
              "  {'geometry': {'coordinates': [[[1.932220458984375, 47.80502669216753],\n",
              "      [2.63671875, 47.80502669216753],\n",
              "      [2.63671875, 48.11018210246057],\n",
              "      [1.932220458984375, 48.11018210246057],\n",
              "      [1.932220458984375, 47.80502669216753]]],\n",
              "    'type': 'Polygon'},\n",
              "   'properties': {'split': 'train'},\n",
              "   'type': 'Feature'},\n",
              "  {'geometry': {'coordinates': [[[1.932220458984375, 47.72177305487703],\n",
              "      [2.63671875, 47.72177305487703],\n",
              "      [2.63671875, 47.805],\n",
              "      [1.932220458984375, 47.805],\n",
              "      [1.932220458984375, 47.72177305487703]]],\n",
              "    'type': 'Polygon'},\n",
              "   'properties': {'split': 'valid'},\n",
              "   'type': 'Feature'}],\n",
              " 'type': 'FeatureCollection'}"
            ]
          },
          "metadata": {
            "tags": []
          },
          "execution_count": 9
        }
      ]
    },
    {
      "cell_type": "code",
      "metadata": {
        "id": "-TppwEw9o4KF",
        "colab_type": "code",
        "colab": {}
      },
      "source": [
        "train_region = ee.Geometry(training_area['features'][1]['geometry'])\n",
        "valid_region = ee.Geometry(training_area['features'][2]['geometry'])"
      ],
      "execution_count": 0,
      "outputs": []
    },
    {
      "cell_type": "markdown",
      "metadata": {
        "id": "j6Q0eGvHnhvz",
        "colab_type": "text"
      },
      "source": [
        "## Visualise in folium"
      ]
    },
    {
      "cell_type": "code",
      "metadata": {
        "id": "UzbCodBdrqLt",
        "colab_type": "code",
        "colab": {}
      },
      "source": [
        "map1 = folium.Map()"
      ],
      "execution_count": 0,
      "outputs": []
    },
    {
      "cell_type": "code",
      "metadata": {
        "id": "gwKn_2E3lu6S",
        "colab_type": "code",
        "outputId": "4323d135-0238-465c-ea8a-26f07b94ad3a",
        "colab": {
          "base_uri": "https://localhost:8080/",
          "height": 1000
        }
      },
      "source": [
        "s2_mapid = sentinel2.getMapId({'bands': BANDS, 'min': 0, 'max': 1})\n",
        "lc_mapid = landcover.getMapId()\n",
        "\n",
        "map1 = folium.Map(location=[47.744374,1.862480])\n",
        "\n",
        "folium.TileLayer(\n",
        "    tiles=EE_TILES.format(**s2_mapid),\n",
        "    attr='Google Earth Engine',\n",
        "    overlay=True,\n",
        "    name='sentinel2 median composite',\n",
        "  ).add_to(map1)\n",
        "\n",
        "folium.GeoJson(\n",
        "    train_region.toGeoJSON(),\n",
        "    name='train region'\n",
        ").add_to(map1)\n",
        "\n",
        "folium.GeoJson(\n",
        "    valid_region.toGeoJSON(),\n",
        "    name='valid region'\n",
        ").add_to(map1)\n",
        "\n",
        "folium.TileLayer(\n",
        "    tiles=EE_TILES.format(**lc_mapid),\n",
        "    attr='Google Earth Engine',\n",
        "    overlay=True,\n",
        "    name='corine land cover',\n",
        "  ).add_to(map1)\n",
        "\n",
        "folium.LayerControl().add_to(map1)\n",
        "\n",
        "map1"
      ],
      "execution_count": 0,
      "outputs": [
        {
          "output_type": "execute_result",
          "data": {
            "text/html": [
              "<div style=\"width:100%;\"><div style=\"position:relative;width:100%;height:0;padding-bottom:60%;\"><iframe src=\"data:text/html;charset=utf-8;base64,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\" style=\"position:absolute;width:100%;height:100%;left:0;top:0;border:none !important;\" allowfullscreen webkitallowfullscreen mozallowfullscreen></iframe></div></div>"
            ],
            "text/plain": [
              "<folium.folium.Map at 0x7fe8ef2e9ba8>"
            ]
          },
          "metadata": {
            "tags": []
          },
          "execution_count": 15
        }
      ]
    },
    {
      "cell_type": "markdown",
      "metadata": {
        "id": "N9VhAsz1rWkj",
        "colab_type": "text"
      },
      "source": [
        "## Export images"
      ]
    },
    {
      "cell_type": "code",
      "metadata": {
        "id": "4EoTGtUe86xT",
        "colab_type": "code",
        "outputId": "106eca85-1509-4f5b-87b2-bab00309e412",
        "colab": {
          "base_uri": "https://localhost:8080/",
          "height": 153
        }
      },
      "source": [
        "# Convert land cover FeatureCollection to Image object\n",
        "# Using the LABEL_ID as the reduced value\n",
        "landcover_img = landcover.reduceToImage(properties=['LABEL_ID'],\n",
        "                                        reducer=ee.Reducer.mode()) \\\n",
        "                         .rename(['landcover'])\n",
        "\n",
        "landcover_img.getInfo()"
      ],
      "execution_count": 0,
      "outputs": [
        {
          "output_type": "execute_result",
          "data": {
            "text/plain": [
              "{'bands': [{'crs': 'EPSG:4326',\n",
              "   'crs_transform': [1.0, 0.0, 0.0, 0.0, 1.0, 0.0],\n",
              "   'data_type': {'max': 9223372036854775807,\n",
              "    'min': -9223372036854775808,\n",
              "    'precision': 'int',\n",
              "    'type': 'PixelType'},\n",
              "   'id': 'landcover'}],\n",
              " 'type': 'Image'}"
            ]
          },
          "metadata": {
            "tags": []
          },
          "execution_count": 16
        }
      ]
    },
    {
      "cell_type": "code",
      "metadata": {
        "id": "B3ErtFo-CW0I",
        "colab_type": "code",
        "outputId": "0178d010-9df2-4335-adb8-62d081c537ad",
        "colab": {
          "base_uri": "https://localhost:8080/",
          "height": 357
        }
      },
      "source": [
        "# Add land cover data to sentinel as a band\n",
        "# so we can export all data in same tfrecord file\n",
        "final_image = sentinel2.addBands(landcover_img)\n",
        "final_image.getInfo()"
      ],
      "execution_count": 0,
      "outputs": [
        {
          "output_type": "execute_result",
          "data": {
            "text/plain": [
              "{'bands': [{'crs': 'EPSG:4326',\n",
              "   'crs_transform': [1.0, 0.0, 0.0, 0.0, 1.0, 0.0],\n",
              "   'data_type': {'precision': 'float', 'type': 'PixelType'},\n",
              "   'id': 'B4'},\n",
              "  {'crs': 'EPSG:4326',\n",
              "   'crs_transform': [1.0, 0.0, 0.0, 0.0, 1.0, 0.0],\n",
              "   'data_type': {'precision': 'float', 'type': 'PixelType'},\n",
              "   'id': 'B3'},\n",
              "  {'crs': 'EPSG:4326',\n",
              "   'crs_transform': [1.0, 0.0, 0.0, 0.0, 1.0, 0.0],\n",
              "   'data_type': {'precision': 'float', 'type': 'PixelType'},\n",
              "   'id': 'B2'},\n",
              "  {'crs': 'EPSG:4326',\n",
              "   'crs_transform': [1.0, 0.0, 0.0, 0.0, 1.0, 0.0],\n",
              "   'data_type': {'max': 9223372036854775807,\n",
              "    'min': -9223372036854775808,\n",
              "    'precision': 'int',\n",
              "    'type': 'PixelType'},\n",
              "   'id': 'landcover'}],\n",
              " 'type': 'Image'}"
            ]
          },
          "metadata": {
            "tags": []
          },
          "execution_count": 17
        }
      ]
    },
    {
      "cell_type": "code",
      "metadata": {
        "id": "J-MbaX78C10a",
        "colab_type": "code",
        "colab": {}
      },
      "source": [
        "# Creating export tasks\n",
        "\n",
        "outputBucket = '[OUTPUT_BUCKET_NAME_HERE]'\n",
        "\n",
        "ExportFormatOptions = {\n",
        "    'patchDimensions': [256, 256],\n",
        "    'maxFileSize': 104857600,\n",
        "    'compressed': True\n",
        "}\n",
        "\n",
        "trainImageTask = ee.batch.Export.image.toCloudStorage(\n",
        "  image=final_image,\n",
        "  description='train images export',\n",
        "  fileNamePrefix='train_images_',\n",
        "  bucket=outputBucket,\n",
        "  scale=10,\n",
        "  crs='EPSG:32631',\n",
        "  fileFormat='TFRecord',\n",
        "  region=train_region.toGeoJSON()['coordinates'],\n",
        "  formatOptions=ExportFormatOptions\n",
        ")\n",
        "\n",
        "validImageTask = ee.batch.Export.image.toCloudStorage(\n",
        "  image=final_image,\n",
        "  description='valid images export',\n",
        "  fileNamePrefix='valid_images_',\n",
        "  bucket=outputBucket,\n",
        "  scale=10,\n",
        "  crs='EPSG:32631',\n",
        "  fileFormat='TFRecord',\n",
        "  region=valid_region.toGeoJSON()['coordinates'],\n",
        "  formatOptions=ExportFormatOptions\n",
        ")"
      ],
      "execution_count": 0,
      "outputs": []
    },
    {
      "cell_type": "code",
      "metadata": {
        "id": "huL5F2CFDZy2",
        "colab_type": "code",
        "colab": {}
      },
      "source": [
        "# Starting export\n",
        "# (Happening directly on Google Earth Engine platform)\n",
        "\n",
        "trainImageTask.start()\n",
        "validImageTask.start()"
      ],
      "execution_count": 0,
      "outputs": []
    },
    {
      "cell_type": "code",
      "metadata": {
        "id": "VIaqJkwMHs4R",
        "colab_type": "code",
        "outputId": "8c0c463d-f8c2-48c4-e0a4-6337970470fe",
        "colab": {
          "base_uri": "https://localhost:8080/",
          "height": 1000
        }
      },
      "source": [
        "# Checking progress of export task for training\n",
        "\n",
        "import time\n",
        "\n",
        "print('Export train images (id: {}):'.format(trainImageTask.id))\n",
        "while trainImageTask.active():\n",
        "    print('In progres...')\n",
        "    time.sleep(5)\n",
        "print('Done with train image export.')"
      ],
      "execution_count": 0,
      "outputs": [
        {
          "output_type": "stream",
          "text": [
            "Export train images (id: QFCW5Q3WSJODNAYGNYQ32JEI):\n",
            "In progres...\n",
            "In progres...\n",
            "In progres...\n",
            "In progres...\n",
            "In progres...\n",
            "In progres...\n",
            "In progres...\n",
            "In progres...\n",
            "In progres...\n",
            "In progres...\n",
            "In progres...\n",
            "In progres...\n",
            "In progres...\n",
            "In progres...\n",
            "In progres...\n",
            "In progres...\n",
            "In progres...\n",
            "In progres...\n",
            "In progres...\n",
            "In progres...\n",
            "In progres...\n",
            "In progres...\n",
            "In progres...\n",
            "In progres...\n",
            "In progres...\n",
            "In progres...\n",
            "In progres...\n",
            "In progres...\n",
            "In progres...\n",
            "In progres...\n",
            "In progres...\n",
            "In progres...\n",
            "In progres...\n",
            "In progres...\n",
            "In progres...\n",
            "In progres...\n",
            "In progres...\n",
            "In progres...\n",
            "In progres...\n",
            "In progres...\n",
            "In progres...\n",
            "In progres...\n",
            "In progres...\n",
            "In progres...\n",
            "In progres...\n",
            "In progres...\n",
            "In progres...\n",
            "In progres...\n",
            "In progres...\n",
            "In progres...\n",
            "In progres...\n",
            "In progres...\n",
            "In progres...\n",
            "In progres...\n",
            "In progres...\n",
            "In progres...\n",
            "In progres...\n",
            "In progres...\n",
            "Done with train image export.\n"
          ],
          "name": "stdout"
        }
      ]
    }
  ]
}