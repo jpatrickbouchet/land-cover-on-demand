{
  "nbformat": 4,
  "nbformat_minor": 0,
  "metadata": {
    "colab": {
      "name": "4_Serving.ipynb",
      "version": "0.3.2",
      "provenance": [],
      "collapsed_sections": [],
      "include_colab_link": true
    },
    "kernelspec": {
      "name": "python3",
      "display_name": "Python 3"
    },
    "accelerator": "GPU"
  },
  "cells": [
    {
      "cell_type": "markdown",
      "metadata": {
        "id": "view-in-github",
        "colab_type": "text"
      },
      "source": [
        "<a href=\"https://colab.research.google.com/github/jpatrickbouchet/land-cover-on-demand/blob/master/4_Serving.ipynb\" target=\"_parent\"><img src=\"https://colab.research.google.com/assets/colab-badge.svg\" alt=\"Open In Colab\"/></a>"
      ]
    },
    {
      "cell_type": "code",
      "metadata": {
        "id": "37lR02LrZrc8",
        "colab_type": "code",
        "colab": {}
      },
      "source": [
        "!pip install tensorflow==2.0.0-beta1"
      ],
      "execution_count": 0,
      "outputs": []
    },
    {
      "cell_type": "code",
      "metadata": {
        "id": "_AuTN0dLD2OU",
        "colab_type": "code",
        "colab": {}
      },
      "source": [
        "import os\n",
        "import datetime\n",
        "import time\n",
        "import json\n",
        "from io import BytesIO\n",
        "\n",
        "import tensorflow as tf\n",
        "import numpy as np\n",
        "import pandas as pd\n",
        "\n",
        "import matplotlib.pyplot as plt"
      ],
      "execution_count": 0,
      "outputs": []
    },
    {
      "cell_type": "code",
      "metadata": {
        "id": "uTnFuBjynYdx",
        "colab_type": "code",
        "outputId": "043a761e-043e-4d8c-9311-0731e1167303",
        "colab": {
          "base_uri": "https://localhost:8080/",
          "height": 34
        }
      },
      "source": [
        "print(tf.__version__)"
      ],
      "execution_count": 0,
      "outputs": [
        {
          "output_type": "stream",
          "text": [
            "2.0.0-beta1\n"
          ],
          "name": "stdout"
        }
      ]
    },
    {
      "cell_type": "code",
      "metadata": {
        "id": "jI8D2Inpjn-A",
        "colab_type": "code",
        "colab": {}
      },
      "source": [
        "from google.colab import auth\n",
        "auth.authenticate_user()"
      ],
      "execution_count": 0,
      "outputs": []
    },
    {
      "cell_type": "code",
      "metadata": {
        "id": "UWb_oDSftAaN",
        "colab_type": "code",
        "colab": {}
      },
      "source": [
        "PROJECT = 'PROJECT_ID_HERE'\n",
        "BUCKET = 'BUCKET_NAME_HERE'\n",
        "REGION = 'us-central1'"
      ],
      "execution_count": 0,
      "outputs": []
    },
    {
      "cell_type": "code",
      "metadata": {
        "id": "BUlx7i-NBMbt",
        "colab_type": "code",
        "colab": {}
      },
      "source": [
        "os.environ['BUCKET'] = BUCKET\n",
        "os.environ['PROJECT'] = PROJECT\n",
        "os.environ['REGION'] = REGION"
      ],
      "execution_count": 0,
      "outputs": []
    },
    {
      "cell_type": "code",
      "metadata": {
        "id": "zOTKB_JFf1XM",
        "colab_type": "code",
        "colab": {}
      },
      "source": [
        "BUCKET_DIR = \"gs://{0}/\".format(BUCKET)"
      ],
      "execution_count": 0,
      "outputs": []
    },
    {
      "cell_type": "code",
      "metadata": {
        "id": "vfO94L4gLaYx",
        "colab_type": "code",
        "outputId": "705c6259-132d-4f17-f29b-b307a51c9317",
        "colab": {
          "base_uri": "https://localhost:8080/",
          "height": 34
        }
      },
      "source": [
        "%%bash\n",
        "gcloud config set project ${PROJECT}"
      ],
      "execution_count": 0,
      "outputs": [
        {
          "output_type": "stream",
          "text": [
            "Updated property [core/project].\n"
          ],
          "name": "stderr"
        }
      ]
    },
    {
      "cell_type": "markdown",
      "metadata": {
        "id": "bNoYS_TJH_Eo",
        "colab_type": "text"
      },
      "source": [
        "## Reload model using the h5 file"
      ]
    },
    {
      "cell_type": "code",
      "metadata": {
        "id": "3nkb9OjKpLVX",
        "colab_type": "code",
        "colab": {}
      },
      "source": [
        "# Copying from gcs to local environment\n",
        "%%shell\n",
        "gsutil -m cp gs://${BUCKET}/saved_models/model_20190815.h5 ."
      ],
      "execution_count": 0,
      "outputs": []
    },
    {
      "cell_type": "code",
      "metadata": {
        "id": "J-OBTY3ZIn2W",
        "colab_type": "code",
        "colab": {}
      },
      "source": [
        "# Loading model\n",
        "model = tf.keras.models.load_model('model_20190815.h5')"
      ],
      "execution_count": 0,
      "outputs": []
    },
    {
      "cell_type": "markdown",
      "metadata": {
        "id": "pknysO7iIoYE",
        "colab_type": "text"
      },
      "source": [
        "## Wrapping model with custom input functions for serving"
      ]
    },
    {
      "cell_type": "code",
      "metadata": {
        "id": "chldZ5VUTwmV",
        "colab_type": "code",
        "colab": {}
      },
      "source": [
        "class ExportModel(tf.keras.Model):\n",
        "\n",
        "    def __init__(self, model):\n",
        "        super().__init__(self)\n",
        "        self.model = model\n",
        "        self.img_size = 256\n",
        "\n",
        "    @tf.function\n",
        "    def decode_patch_data(self, patch_bytes):\n",
        "        image = tf.io.decode_raw(patch_bytes, tf.float32)\n",
        "        image = tf.reshape(image, [self.img_size, self.img_size, 3])\n",
        "        return image*2 - 1\n",
        "\n",
        "\n",
        "    @tf.function\n",
        "    def post_proc(self, onehot_mask):\n",
        "        mask = tf.argmax(onehot_mask, axis=-1)\n",
        "        mask = tf.cast(mask, tf.uint8)\n",
        "        mask = tf.expand_dims(mask, axis=-1)\n",
        "        mask = tf.image.encode_png(mask)\n",
        "        mask = tf.io.encode_base64(mask)\n",
        "        return mask\n",
        "\n",
        "\n",
        "    @tf.function(input_signature=[tf.TensorSpec([None,], dtype=tf.string, name=\"patches_bytes\")])\n",
        "    def default_serving_fn(self, patches_bytes):\n",
        "        \n",
        "        images = tf.map_fn(self.decode_patch_data,\n",
        "                           patches_bytes,\n",
        "                           back_prop=False,\n",
        "                           dtype=tf.float32)\n",
        "\n",
        "        predictions = self.model(images)\n",
        "        \n",
        "        masks = tf.map_fn(self.post_proc,\n",
        "                           predictions,\n",
        "                           back_prop=False,\n",
        "                           dtype=tf.string)\n",
        "\n",
        "        return masks\n",
        "\n",
        "    \n",
        "    @tf.function(input_signature=[tf.TensorSpec([None], dtype=tf.string, name=\"tfrec_serialized_examples\")])\n",
        "    def batch_serving_fn(self, tf_example):\n",
        "\n",
        "        keys_to_features = {\n",
        "            'patch_id': tf.io.FixedLenFeature([], dtype=tf.int64),\n",
        "            'patch_data': tf.io.FixedLenFeature([], dtype=tf.string),\n",
        "        }           \n",
        "        \n",
        "        features = tf.io.parse_example(tf_example, keys_to_features)\n",
        "\n",
        "        patches_id = features['patch_id']\n",
        "        patches_bytes = features['patch_data']\n",
        "        \n",
        "        masks = self.default_serving_fn(patches_bytes)\n",
        "\n",
        "        return { \"patches_id\": patches_id, \"masks\": masks }"
      ],
      "execution_count": 0,
      "outputs": []
    },
    {
      "cell_type": "code",
      "metadata": {
        "id": "bXi6rKhEJUQ-",
        "colab_type": "code",
        "colab": {}
      },
      "source": [
        "# Create the ExportModel\n",
        "serving_model = ExportModel(model)"
      ],
      "execution_count": 0,
      "outputs": []
    },
    {
      "cell_type": "code",
      "metadata": {
        "id": "bolpXLpS2q_6",
        "colab_type": "code",
        "colab": {}
      },
      "source": [
        "# Export to the Tensorflow SavedModel format\n",
        "export_path = os.path.join(BUCKET_DIR, 'export_models', str(time.time()))\n",
        "\n",
        "tf.keras.backend.set_learning_phase(0) #inference only\n",
        "\n",
        "tf.saved_model.save(serving_model,\n",
        "                    export_path,\n",
        "                    signatures={\n",
        "                        \"serving_default\": serving_model.default_serving_fn,\n",
        "                        \"serving_batch\": serving_model.batch_serving_fn\n",
        "                    })\n",
        "\n",
        "print('Model saved to: {}'.format(export_path))"
      ],
      "execution_count": 0,
      "outputs": []
    },
    {
      "cell_type": "code",
      "metadata": {
        "id": "4Bl313vFFHfL",
        "colab_type": "code",
        "outputId": "d28f1a3b-dc67-427b-c6ae-3304a9cf7845",
        "colab": {
          "base_uri": "https://localhost:8080/",
          "height": 714
        }
      },
      "source": [
        "# Double checking signatures using saved model cli\n",
        "\n",
        "%%shell\n",
        "saved_model_cli show --dir gs://${BUCKET}/export_models/1565895213.3011768/ --all"
      ],
      "execution_count": 0,
      "outputs": [
        {
          "output_type": "stream",
          "text": [
            "\n",
            "MetaGraphDef with tag-set: 'serve' contains the following SignatureDefs:\n",
            "\n",
            "signature_def['__saved_model_init_op']:\n",
            "  The given SavedModel SignatureDef contains the following input(s):\n",
            "  The given SavedModel SignatureDef contains the following output(s):\n",
            "    outputs['__saved_model_init_op'] tensor_info:\n",
            "        dtype: DT_INVALID\n",
            "        shape: unknown_rank\n",
            "        name: NoOp\n",
            "  Method name is: \n",
            "\n",
            "signature_def['serving_batch']:\n",
            "  The given SavedModel SignatureDef contains the following input(s):\n",
            "    inputs['tfrec_serialized_examples'] tensor_info:\n",
            "        dtype: DT_STRING\n",
            "        shape: (-1)\n",
            "        name: serving_batch_tfrec_serialized_examples:0\n",
            "  The given SavedModel SignatureDef contains the following output(s):\n",
            "    outputs['masks'] tensor_info:\n",
            "        dtype: DT_STRING\n",
            "        shape: (-1)\n",
            "        name: StatefulPartitionedCall:0\n",
            "    outputs['patches_id'] tensor_info:\n",
            "        dtype: DT_INT64\n",
            "        shape: (-1)\n",
            "        name: StatefulPartitionedCall:1\n",
            "  Method name is: tensorflow/serving/predict\n",
            "\n",
            "signature_def['serving_default']:\n",
            "  The given SavedModel SignatureDef contains the following input(s):\n",
            "    inputs['patches_bytes'] tensor_info:\n",
            "        dtype: DT_STRING\n",
            "        shape: (-1)\n",
            "        name: serving_default_patches_bytes:0\n",
            "  The given SavedModel SignatureDef contains the following output(s):\n",
            "    outputs['output_0'] tensor_info:\n",
            "        dtype: DT_STRING\n",
            "        shape: (-1)\n",
            "        name: StatefulPartitionedCall_1:0\n",
            "  Method name is: tensorflow/serving/predict\n"
          ],
          "name": "stdout"
        }
      ]
    },
    {
      "cell_type": "markdown",
      "metadata": {
        "id": "Ek-FfjkJhjmH",
        "colab_type": "text"
      },
      "source": [
        "## Preparing sample data to test our deployed model"
      ]
    },
    {
      "cell_type": "markdown",
      "metadata": {
        "id": "tbjqd5mQkVt-",
        "colab_type": "text"
      },
      "source": [
        "### For local and online prediction"
      ]
    },
    {
      "cell_type": "code",
      "metadata": {
        "colab_type": "code",
        "id": "ovHOpd0Bj5DF",
        "colab": {}
      },
      "source": [
        "def dataset_parser(example_proto):    \n",
        "    patch_dimension_flat = [256 * 256, 1]\n",
        "    \n",
        "    keys_to_features = {\n",
        "        'B4': tf.io.FixedLenFeature(patch_dimension_flat, dtype=tf.float32),\n",
        "        'B3': tf.io.FixedLenFeature(patch_dimension_flat, dtype=tf.float32),\n",
        "        'B2': tf.io.FixedLenFeature(patch_dimension_flat, dtype=tf.float32),\n",
        "        'landcover': tf.io.FixedLenFeature(patch_dimension_flat, dtype=tf.int64)\n",
        "    }\n",
        "      \n",
        "            \n",
        "    parsed = tf.io.parse_single_example(example_proto, keys_to_features)\n",
        "\n",
        "    band_shape = [256, 256]\n",
        "    red_img = tf.reshape(parsed['B4'], band_shape)\n",
        "    green_img = tf.reshape(parsed['B3'], band_shape)\n",
        "    blue_img = tf.reshape(parsed['B2'], band_shape)\n",
        "    image_rgb = tf.stack((red_img, green_img, blue_img), axis=-1)\n",
        "    \n",
        "    landcover_mask = tf.reshape(parsed['landcover'], [256, 256, 1])\n",
        "    \n",
        "    return image_rgb, landcover_mask"
      ],
      "execution_count": 0,
      "outputs": []
    },
    {
      "cell_type": "code",
      "metadata": {
        "colab_type": "code",
        "id": "Lbt5WiLBj5DK",
        "colab": {}
      },
      "source": [
        "AUTOTUNE = tf.data.experimental.AUTOTUNE\n",
        "\n",
        "# Getting list of tfrecords files\n",
        "tfrec_file_pattern = os.path.join(BUCKET_DIR, 'valid_images_.tfrecord.gz')\n",
        "tfrec_files = tf.data.Dataset.list_files(tfrec_file_pattern)\n",
        "  \n",
        "# Reading tfrecords\n",
        "patches_ds = tf.data.TFRecordDataset(tfrec_files, compression_type='GZIP')\n",
        "\n",
        "# Parsing tfrecords into tf.Example\n",
        "patches_ds = patches_ds.map(dataset_parser, num_parallel_calls=AUTOTUNE)"
      ],
      "execution_count": 0,
      "outputs": []
    },
    {
      "cell_type": "code",
      "metadata": {
        "id": "DkEJnG38Lnvv",
        "colab_type": "code",
        "colab": {}
      },
      "source": [
        "patches_ds_iter = iter(patches_ds)"
      ],
      "execution_count": 0,
      "outputs": []
    },
    {
      "cell_type": "code",
      "metadata": {
        "id": "YdlJZXUiLshA",
        "colab_type": "code",
        "colab": {}
      },
      "source": [
        "image_rgb, ground_truth = next(patches_ds_iter)"
      ],
      "execution_count": 0,
      "outputs": []
    },
    {
      "cell_type": "code",
      "metadata": {
        "id": "OR9en0geVGDj",
        "colab_type": "code",
        "outputId": "725593d3-2534-42ea-de0e-e4f6337c0613",
        "colab": {
          "base_uri": "https://localhost:8080/",
          "height": 286
        }
      },
      "source": [
        "plt.imshow(image_rgb)"
      ],
      "execution_count": 0,
      "outputs": [
        {
          "output_type": "execute_result",
          "data": {
            "text/plain": [
              "<matplotlib.image.AxesImage at 0x7f00865b5a90>"
            ]
          },
          "metadata": {
            "tags": []
          },
          "execution_count": 17
        },
        {
          "output_type": "display_data",
          "data": {
            "image/png": "[encoded data removed]",
            "text/plain": [
              "<Figure size 432x288 with 1 Axes>"
            ]
          },
          "metadata": {
            "tags": []
          }
        }
      ]
    },
    {
      "cell_type": "code",
      "metadata": {
        "id": "rvcbHCv6lkJp",
        "colab_type": "code",
        "outputId": "a717ccde-ff31-4608-a036-7a1248ce9194",
        "colab": {
          "base_uri": "https://localhost:8080/",
          "height": 286
        }
      },
      "source": [
        "plt.imshow(np.squeeze(ground_truth), vmin=0, vmax=15)"
      ],
      "execution_count": 0,
      "outputs": [
        {
          "output_type": "execute_result",
          "data": {
            "text/plain": [
              "<matplotlib.image.AxesImage at 0x7fdccaf53cf8>"
            ]
          },
          "metadata": {
            "tags": []
          },
          "execution_count": 146
        },
        {
          "output_type": "display_data",
          "data": {
            "image/png": "[encoded data removed]",
            "text/plain": [
              "<Figure size 432x288 with 1 Axes>"
            ]
          },
          "metadata": {
            "tags": []
          }
        }
      ]
    },
    {
      "cell_type": "code",
      "metadata": {
        "id": "k3HG9xaqcjxM",
        "colab_type": "code",
        "outputId": "ee57e023-54a0-4a2b-cad4-ce24022b05b7",
        "colab": {
          "base_uri": "https://localhost:8080/",
          "height": 286
        }
      },
      "source": [
        "pred_test = model.predict([[image_rgb*2-1]])\n",
        "pred_test = tf.argmax(pred_test, axis=-1)\n",
        "plt.imshow(np.squeeze(pred_test), vmin=0, vmax=15)"
      ],
      "execution_count": 0,
      "outputs": [
        {
          "output_type": "execute_result",
          "data": {
            "text/plain": [
              "<matplotlib.image.AxesImage at 0x7fdcb95f7518>"
            ]
          },
          "metadata": {
            "tags": []
          },
          "execution_count": 145
        },
        {
          "output_type": "display_data",
          "data": {
            "image/png": "[encoded data removed]",
            "text/plain": [
              "<Figure size 432x288 with 1 Axes>"
            ]
          },
          "metadata": {
            "tags": []
          }
        }
      ]
    },
    {
      "cell_type": "code",
      "metadata": {
        "id": "8JkXXwYti1Fs",
        "colab_type": "code",
        "colab": {}
      },
      "source": [
        "## Create input json file\n",
        "import base64\n",
        "\n",
        "json_prep = image_rgb.numpy().tostring()\n",
        "json_prep = base64.b64encode(json_prep).decode('utf-8')\n",
        "\n",
        "instances = {'b64': json_prep}\n",
        "\n",
        "with open('test_input.json', 'w') as jsfile:\n",
        "    jsfile.write(json.dumps(instances))"
      ],
      "execution_count": 0,
      "outputs": []
    },
    {
      "cell_type": "markdown",
      "metadata": {
        "id": "ewhTkp6MkcQI",
        "colab_type": "text"
      },
      "source": [
        "### For batch prediction\n",
        "\n",
        "In this case we need to add a way to retrieve the original order of the patches.  \n",
        "To do so, I deserialize each the tfrecords generated by Google Earth Engine and reserialize them with a patch_id attached to each example."
      ]
    },
    {
      "cell_type": "code",
      "metadata": {
        "id": "79b1YUo5K33D",
        "colab_type": "code",
        "colab": {}
      },
      "source": [
        "def _int64_feature(value):\n",
        "    \"\"\"Returns an int64_list from a bool / enum / int / uint.\"\"\"\n",
        "    return tf.train.Feature(int64_list=tf.train.Int64List(value=[value]))\n",
        "\n",
        "def _bytes_feature(value):\n",
        "    \"\"\"Returns a bytes_list from a string / byte.\"\"\"\n",
        "    return tf.train.Feature(bytes_list=tf.train.BytesList(value=[value]))\n",
        "\n",
        "def serialize_example(idx, patch_data):\n",
        "    \"\"\"\n",
        "    Creates a tf.Example message ready to be written to a file.\n",
        "    \"\"\"\n",
        "    \n",
        "    patch_data = patch_data.numpy()\n",
        "    \n",
        "    feature = {\n",
        "        'patch_id': _int64_feature(idx),\n",
        "        'patch_data': _bytes_feature(patch_data.tostring())\n",
        "    }\n",
        "\n",
        "    # Create a Features message using tf.train.Example.\n",
        "    example_proto = tf.train.Example(features=tf.train.Features(feature=feature))\n",
        "    return example_proto.SerializeToString()"
      ],
      "execution_count": 0,
      "outputs": []
    },
    {
      "cell_type": "code",
      "metadata": {
        "colab_type": "code",
        "id": "JVA1uSLskdsx",
        "outputId": "abab4e67-5575-4c91-c1a3-ab8f224b19ac",
        "colab": {
          "base_uri": "https://localhost:8080/",
          "height": 292
        }
      },
      "source": [
        "# Generating ids to assign to each patch\n",
        "idx = tf.data.Dataset.range(0, 60)\n",
        "\n",
        "# Combining ids and patches in one dataset\n",
        "patches_batch_ds = tf.data.Dataset.zip((idx, patches_ds))\n",
        "\n",
        "def serialize_generator():\n",
        "    for features in patches_batch_ds:\n",
        "        yield serialize_example(features[0], features[1][0])\n",
        "\n",
        "\n",
        "serialized_dataset = tf.data.Dataset.from_generator(\n",
        "    serialize_generator, output_types=tf.string, output_shapes=())\n",
        "\n",
        "\n",
        "serialized_dataset"
      ],
      "execution_count": 0,
      "outputs": [
        {
          "output_type": "stream",
          "text": [
            "WARNING: Logging before flag parsing goes to stderr.\n",
            "W0816 08:54:38.070632 139641409841024 deprecation.py:323] From /usr/local/lib/python3.6/dist-packages/tensorflow/python/data/ops/dataset_ops.py:505: py_func (from tensorflow.python.ops.script_ops) is deprecated and will be removed in a future version.\n",
            "Instructions for updating:\n",
            "tf.py_func is deprecated in TF V2. Instead, there are two\n",
            "    options available in V2.\n",
            "    - tf.py_function takes a python function which manipulates tf eager\n",
            "    tensors instead of numpy arrays. It's easy to convert a tf eager tensor to\n",
            "    an ndarray (just call tensor.numpy()) but having access to eager tensors\n",
            "    means `tf.py_function`s can use accelerators such as GPUs as well as\n",
            "    being differentiable using a gradient tape.\n",
            "    - tf.numpy_function maintains the semantics of the deprecated tf.py_func\n",
            "    (it is not differentiable, and manipulates numpy arrays). It drops the\n",
            "    stateful argument making all functions stateful.\n",
            "    \n"
          ],
          "name": "stderr"
        },
        {
          "output_type": "execute_result",
          "data": {
            "text/plain": [
              "<DatasetV1Adapter shapes: (), types: tf.string>"
            ]
          },
          "metadata": {
            "tags": []
          },
          "execution_count": 20
        }
      ]
    },
    {
      "cell_type": "code",
      "metadata": {
        "colab_type": "code",
        "id": "lo14rjHNkdsz",
        "colab": {}
      },
      "source": [
        "# Saving\n",
        "filename = 'test_batch_pred.tfrec'\n",
        "writer = tf.data.experimental.TFRecordWriter(filename)\n",
        "writer.write(serialized_dataset)"
      ],
      "execution_count": 0,
      "outputs": []
    },
    {
      "cell_type": "markdown",
      "metadata": {
        "id": "cCqjL4CihRi7",
        "colab_type": "text"
      },
      "source": [
        "## Test local predictions"
      ]
    },
    {
      "cell_type": "code",
      "metadata": {
        "id": "sv3pgV09GciI",
        "colab_type": "code",
        "colab": {}
      },
      "source": [
        "%%shell\n",
        "gcloud ai-platform local predict --model-dir gs://${BUCKET}/export_models/1565895213.3011768/ \\\n",
        "  --json-instances test_input.json \\\n",
        "  --framework tensorflow \\\n",
        "  --signature-name serving_default"
      ],
      "execution_count": 0,
      "outputs": []
    },
    {
      "cell_type": "markdown",
      "metadata": {
        "id": "h4Pi8VG_q1s9",
        "colab_type": "text"
      },
      "source": [
        "Since local prediction doesn't seem to work in Collab, I ran it on my laptop and copied the response below"
      ]
    },
    {
      "cell_type": "code",
      "metadata": {
        "id": "gePPkHW1ihqz",
        "colab_type": "code",
        "colab": {}
      },
      "source": [
        "# Local prediction received on my machine\n",
        "local_prediction = \"iVBORw0KGgoAAAANSUhEUgAAAQAAAAEACAAAAAB5Gfe6AAAMmUlEQVR4nO1daXOrOgwVJDC3Q___Ly2Td6FN3gc2L7It27IRzT0zbbNQ4BwkeUEWzQA8mI33k_GedpzG-sTcT-T3PbJhr3w_NUwCmPxBPzXqURrrP8PwbN0b7yfrE-ASwFYghb9lAWEp_FtofCfrEwC4h08qDRNABPENL12BaeVnXTf9ML6z6I-X5icAUFCANMtqAAC-rI8nlwJxzoKhzd4DN75s_m64TYO6KZsFdHoQ6FL2MTq_QaLX-nku-FxAUyCBv5s9AOBeQKAfNBHGGNAhTSEZAfpgKpB_6VdwBsFuawuT7D-I6bieSfR7tEXhbQW4mPcOjpP7K9JeS3aEcqH5QA9cRh6MAfKaQVjPOqKFy4FIARZwKBDeh0QBeuNv_p48KNYV5kCfGQgU_mt4tltqMRbAH4x7mz_STIkR4ABT9FN30yGvVtQXINDn-9Dma9IPQ5WxZj_goI4edAQwzztdAH0_6nU3wkA1AYwLjx12tGewUuHmbwpQyQVG0_AxR6jT9TGiQI1mEPX60bKBnMGkAbKUXQ0BwiNdFYtJPo-XCTD4G9d8H7Z3ADUswMHfbwAL9z__JR0xdP01QcT0A1b--vn8SdlTXCg5qytsGgDKPwWxkfQkCzD5x8UJN3qEv3-W5hwLoHQ-vu8AkTEgpR09RQCLP2IA3_B9j-PvoB-YppMyHL4BAMDP_v4bYq9_YjdKSivwAACA23N9-73-0JHajeS3gMWcB-2duYnhA8dGt8fW8sXR92CuGQRH5BW-nTMM_gd_gJE-AMzeMBASwCSCjuLiTuj4n-F4_XF8ldb982HpZOAy-IfDXM1zGLsAj9Q9hIMAqoA3CNbjz4Dw5ME-2lBJC2kGP8KbBOG6hW6iBWjhqbz7PQgZwQxt2xqMf5UABAUsyBDgA32ZAOos4u4BQgTgg0-Btm3_Lq-eyodFT4cIjhAYRgsA7Qyg8fcLICV3IAZOE1gnG__-far8JTSDda7_ivZpdI1PFqAq-R3q-OhcATD-H4_jq5R-sTOrFAA291cU8AfB0kHATfBD-c2Izf2PDoGAGGAil7XfBFbsNnByM5g89vOB1BvabECgBeQjlGOvIiDAUHpE_CjXDqyGENDh3uodo-p4OHz-AXuDwIjW4hqKARU6g26WBSKExbfFPqyMR5FQ6IBJ1k2-sZewFUMNCRbjf5o-4Lv6FRUo0x4CgNIoPp9Piz5A-zo5CG6o6QYqWng5vnF9XgfV9GittXo7FgXOmROowJ-QknGeDVT0hxagbrSThsUChCnwE96EjkBXeHUBUQrU5L8Phhqnw_dsS_SIYOWvAl09fnY3-EClwGdeTjkCbHjgMxof-ePm5eIbOw9OiDCmMJPw4FsVC4CGgO0u8qzlCrtCgJgUgSgPGfDz3hZhTXAoswiA0T-H-iNjaawKlwT7vifo5w5muPUO-rVNH-C7gyUm5TcDPQD0M8CWf3jgduz856d5OoPgWZb_A8C2cgQfxZjZxLgAJ5n_g6sLQDz_CWCS1wyyYFx_sHhCqCJzWuhfbupwBMGdQugewT121MsUpR0otWu14dORcmeorAbFgIuACUDwgNx13WfBPmuupWmXRA--SVEHdg1_gwKwTIu_LSZIcYFrOr8TmACBmfB1RPUbhJjSmsHfQH3FJHBGqDL-CXD2CZwNVIAr5gin4p8FnH0CZwMX4I184J8F4B-_jwm4LOBtFHh7FyieLD0Iur2GobQFDAAwSPYnc_X4kiryAqbrtu9drBXoLrBlyrjzReIwqK9kaqAKwJ4oNBjvJEqwC1AgTcpyfYkSbEGwBn_HZ-fCkSbHoAfOVZwCb98RcglQLHNSmgk4U2WLVVsVpoBnyUzFszgRnhjwybH_0aonKwyLpeNXO-J5N1jKwNH5c5YOE4BmALe1UxUIPvpDV0CUAN5mkOgE-43yvsdKWoIwyjr8_YBP6HsnKxxXU8DrAqBbtcPCSRXBFSeQJcatB68A6mrj2-12u1m5jNYltzcBgPnYrH4Srg-BKbHX8fSkFYQn4PjXmMgyAMpYwC7Dp0YFzOexz0bjrxT4Y8A6MYQbLboER_9WxwDy-OcIEMBF8khaAHey7PZ5mYenyUCxpbMXMYBVgDdOFvRYwKFKQgy4igGUmhK7DP9_c4JrTxApokDzgOnqWdNOC6DFxQlQc7-OB2wWkDUBSCrfBrDbiih5WoCmQUoGKQYQ0waI4kYC6gKvF7Vj4Hg6KG4SIoNFa1s_mT0AQK_zEsnRi7vBP7pPaFdkCNZlql6Twgf2HKEnwKVCQbgjlNBAXIh_WIBfzj_gAm9wf9C0gMZ-c73IHoOa9QRFuoYlQD5rN88ptMEJsGOAnSPI126Lor7g7ecDEAHeIPQrwCzAUiCqHRBo5j68vQugHaGcXOkzDWAAiLn5NgD4e4KuaqtSEZeAt27tdYHdEOiX9UQDGLQ_VPjHAq_f2yZsOgWDYNT8kAADiAWtFfgsQSwu-SqEAXlFAUGAFzBljdoQMNDEZ4Xtt7RTjTEUx4RyIpJTsMkdoUIXq8Ruo8QgCfD1BbRTjaDDy9xcnkUHKoDd9FEViEeRvUYoEDMWIJxrAh0OBez1acHVqluPGe8I2YOBrwEAOhixvNhMCoXukxAHBo2rgdMkUB6VPWp87XqNRDaaaLkKBK42rsL6T04BfKWWj7PHnuZEomNYTZ4EQZdHJVj-K_iYHSsgDgNM3kJiKR7B2im04YkI3mnxBqBBmoQB_A_ySiKT0THOWofmdoEdrrrbRwVY-9SDJu1gm-IKNP62F4RcIHjQhXuPkgldTtfXfV-v2sIiSert8WMhuINLetnVuknl6fkBwUcREpZWWNjSsiPqLWRazCHA4uoRE0ADIXvKUYLY5QFqWnqlmhNbouT2PmYitCPljyEaUPgD0Aou5IYMK1vcivmeKbGOuJBAJ-wMkMjeyofEOg9d7bFOswlczdJPPW0GaIyLHJc3Rk-jDCSUuq3JJwHZQrCdDLA8bS5ruQR9OU0q_7IVB4IuEFSHEgpXdu4t_TKWdAOsUITmAwTzCCmgsMM3DVuRS4EI43D4ANYV5l1BpDUVKFWCF5VrDRzJ0sdLwj68BIwvu12PzrGFA9kSYKO-0Vcr5SirFkSqb0fCNaCjYHVrqyTE4A6C-Y7Avd4yoxLXFtY-LQlYOkJIQ1BmsWmqBO7-_ciSIjManf2O2keOR1IkUPmboYDDAkZ18Vjpdcbcg0QGAdbzWR7jV2OddawG3gFufsUs9Vwqlskayccz-ethMDsGjM43FcBwPOY8QXEFIoJzXLkCmIwrK0C49xf4nj1TVJgNBGf4MgVA6NZVIHC08AxngVxhUQr40fd9iWTpKgqQalajBqAn1MV1hPD6gFKB2_82yOuXUSxZgFF7LUCC4DyZk_-gJnnQXGA2C2NKiPX-i4CUBABABvkEAcbRHO2BDGeIP_g21aVMULeBpsJZFFW4AigpZI6nu4NngQjF0JE5ikxRZgDyRGHUjlGazdC4vgrRd1VKzeK_zy1ljqsRCzhIKkGwu6P3gxNiHIsv8BWbtFk5zNxqBuncR27_Z621-SLe37mr357buHHXGlUk0OmP6o3a-2-lD7D7gfPqd7PaD4jnz6jYXKbU7Ov18pQE6qA7YsDvu_wkdKsFJJaA51KtMv81eC8NbZN3752nIUAFqFTItBUwrDm11HTuwlAGE3Dxr2MCb798nntanBF1PEOwBUxVwpNcAabk1jkKAgTwBbvyCuSXByjUDmAPrSkBARaAwjkLyYFZGXqIEICWUcOmwAyK0YkQoG4B_1n5LUYAkhHwmMCs_5UigGkE1WpL5AvA5ppBI2Ced11eybGAkyBKgDOeZSJKgBoKmIeQJYBXAaauoHEIYQLUgK6ANAFqhIFO_ZMvQK0b5IzHUVWus3AyAUVL0CsKZFsAtwG4fKCUoeUKICBbKg-ZAhTkr48Gih0oKwZc_vJDngUU5q-aQLlDZQhQ8_qXmxxNF6A8f9UEiikgrSeotYM1FEgWoJwBKBMjFeaF0u8LlHWBbeJG6Q-WOaA8F1hQblA06_lIYscCZbBOibOMBQrftlvPkTcKIPfgpLoAVlUpG9g9yAwBSt-5XRQo0RCo2rZDenGKOgoU3m-bY1o1FeBoBDtrr6sLJO-8ggKsE0NdZ91_4l85ygr2UhTW_gRniWkoXEdI8MxG6VPjLaBQAsP-qwgE3R4_BxcYC5R1Aoau8LVNgGMscGkF5A6GKmEVIM_PrmwCWxA8qiSLe17gDCUniO7HQVZYT08gYC44g1X4AKsAnTlZEGcHBdMauojF5Cn4Hw4qc-_R7Lt5AAAAAElFTkSuQmCC\""
      ],
      "execution_count": 0,
      "outputs": []
    },
    {
      "cell_type": "code",
      "metadata": {
        "id": "hbjZHGrhkPHE",
        "colab_type": "code",
        "outputId": "af9be930-f4f2-47f2-ea50-85676df5b73a",
        "colab": {
          "base_uri": "https://localhost:8080/",
          "height": 286
        }
      },
      "source": [
        "local_prediction.encode('utf-8')\n",
        "local_prediction = tf.io.decode_base64(local_prediction)\n",
        "local_prediction = tf.io.decode_png(local_prediction)\n",
        "plt.imshow(np.squeeze(local_prediction), vmin=0, vmax=15)"
      ],
      "execution_count": 0,
      "outputs": [
        {
          "output_type": "execute_result",
          "data": {
            "text/plain": [
              "<matplotlib.image.AxesImage at 0x7f0084a53f60>"
            ]
          },
          "metadata": {
            "tags": []
          },
          "execution_count": 37
        },
        {
          "output_type": "display_data",
          "data": {
            "image/png": "[encoded data removed]",
            "text/plain": [
              "<Figure size 432x288 with 1 Axes>"
            ]
          },
          "metadata": {
            "tags": []
          }
        }
      ]
    },
    {
      "cell_type": "markdown",
      "metadata": {
        "id": "S0n_WtFVrmah",
        "colab_type": "text"
      },
      "source": [
        "The saved model seems to work as expected. Let's deploy it."
      ]
    },
    {
      "cell_type": "markdown",
      "metadata": {
        "id": "LfuORSfUotxf",
        "colab_type": "text"
      },
      "source": [
        "## Deploy the model to Google AI platform"
      ]
    },
    {
      "cell_type": "code",
      "metadata": {
        "colab_type": "code",
        "id": "GZb_C5X8o2ck",
        "colab": {}
      },
      "source": [
        "# Create model in google ai platform\n",
        "!gcloud ai-platform models create land_segm \\\n",
        "   --regions us-central1"
      ],
      "execution_count": 0,
      "outputs": []
    },
    {
      "cell_type": "code",
      "metadata": {
        "id": "irV7w9r3XWH-",
        "colab_type": "code",
        "outputId": "3c2ea328-62c5-4514-90ac-3ae497029c7d",
        "colab": {
          "base_uri": "https://localhost:8080/",
          "height": 102
        }
      },
      "source": [
        "# Create a version\n",
        "%%shell\n",
        "gcloud ai-platform versions create v1 \\\n",
        "  --model land_segm \\\n",
        "  --origin gs://${BUCKET}/export_models/1565895213.3011768/ \\\n",
        "  --runtime-version=1.14 \\\n",
        "  --framework TENSORFLOW \\\n",
        "  --python-version=3.5"
      ],
      "execution_count": 0,
      "outputs": [
        {
          "output_type": "stream",
          "text": [
            "\n",
            "\n",
            "To take a quick anonymous survey, run:\n",
            "  $ gcloud alpha survey\n",
            "\n"
          ],
          "name": "stdout"
        },
        {
          "output_type": "execute_result",
          "data": {
            "text/plain": [
              ""
            ]
          },
          "metadata": {
            "tags": []
          },
          "execution_count": 38
        }
      ]
    },
    {
      "cell_type": "markdown",
      "metadata": {
        "id": "R7nj7UF_Lp17",
        "colab_type": "text"
      },
      "source": [
        "## Test online prediction"
      ]
    },
    {
      "cell_type": "code",
      "metadata": {
        "id": "HmimG2rHYAEJ",
        "colab_type": "code",
        "outputId": "e6d2fc41-e7d8-49c1-da0c-ce92d6f05a52",
        "colab": {
          "base_uri": "https://localhost:8080/",
          "height": 71
        }
      },
      "source": [
        "%%shell\n",
        "gcloud ai-platform predict --model land_segm \\\n",
        "                   --version v1 \\\n",
        "                   --json-instances test_input.json \\\n",
        "                   --signature-name serving_default"
      ],
      "execution_count": 0,
      "outputs": [
        {
          "output_type": "stream",
          "text": [
            "OUTPUT_0\n",
            "iVBORw0KGgoAAAANSUhEUgAAAQAAAAEACAAAAAB5Gfe6AAAMmUlEQVR4nO1daXOrOgwVJDC3Q___Ly2Td6FN3gc2L7It27IRzT0zbbNQ4BwkeUEWzQA8mI33k_GedpzG-sTcT-T3PbJhr3w_NUwCmPxBPzXqURrrP8PwbN0b7yfrE-ASwFYghb9lAWEp_FtofCfrEwC4h08qDRNABPENL12BaeVnXTf9ML6z6I-X5icAUFCANMtqAAC-rI8nlwJxzoKhzd4DN75s_m64TYO6KZsFdHoQ6FL2MTq_QaLX-nku-FxAUyCBv5s9AOBeQKAfNBHGGNAhTSEZAfpgKpB_6VdwBsFuawuT7D-I6bieSfR7tEXhbQW4mPcOjpP7K9JeS3aEcqH5QA9cRh6MAfKaQVjPOqKFy4FIARZwKBDeh0QBeuNv_p48KNYV5kCfGQgU_mt4tltqMRbAH4x7mz_STIkR4ABT9FN30yGvVtQXINDn-9Dma9IPQ5WxZj_goI4edAQwzztdAH0_6nU3wkA1AYwLjx12tGewUuHmbwpQyQVG0_AxR6jT9TGiQI1mEPX60bKBnMGkAbKUXQ0BwiNdFYtJPo-XCTD4G9d8H7Z3ADUswMHfbwAL9z__JR0xdP01QcT0A1b--vn8SdlTXCg5qytsGgDKPwWxkfQkCzD5x8UJN3qEv3-W5hwLoHQ-vu8AkTEgpR09RQCLP2IA3_B9j-PvoB-YppMyHL4BAMDP_v4bYq9_YjdKSivwAACA23N9-73-0JHajeS3gMWcB-2duYnhA8dGt8fW8sXR92CuGQRH5BW-nTMM_gd_gJE-AMzeMBASwCSCjuLiTuj4n-F4_XF8ldb982HpZOAy-IfDXM1zGLsAj9Q9hIMAqoA3CNbjz4Dw5ME-2lBJC2kGP8KbBOG6hW6iBWjhqbz7PQgZwQxt2xqMf5UABAUsyBDgA32ZAOos4u4BQgTgg0-Btm3_Lq-eyodFT4cIjhAYRgsA7Qyg8fcLICV3IAZOE1gnG__-far8JTSDda7_ivZpdI1PFqAq-R3q-OhcATD-H4_jq5R-sTOrFAA291cU8AfB0kHATfBD-c2Izf2PDoGAGGAil7XfBFbsNnByM5g89vOB1BvabECgBeQjlGOvIiDAUHpE_CjXDqyGENDh3uodo-p4OHz-AXuDwIjW4hqKARU6g26WBSKExbfFPqyMR5FQ6IBJ1k2-sZewFUMNCRbjf5o-4Lv6FRUo0x4CgNIoPp9Piz5A-zo5CG6o6QYqWng5vnF9XgfV9GittXo7FgXOmROowJ-QknGeDVT0hxagbrSThsUChCnwE96EjkBXeHUBUQrU5L8Phhqnw_dsS_SIYOWvAl09fnY3-EClwGdeTjkCbHjgMxof-ePm5eIbOw9OiDCmMJPw4FsVC4CGgO0u8qzlCrtCgJgUgSgPGfDz3hZhTXAoswiA0T-H-iNjaawKlwT7vifo5w5muPUO-rVNH-C7gyUm5TcDPQD0M8CWf3jgduz856d5OoPgWZb_A8C2cgQfxZjZxLgAJ5n_g6sLQDz_CWCS1wyyYFx_sHhCqCJzWuhfbupwBMGdQugewT121MsUpR0otWu14dORcmeorAbFgIuACUDwgNx13WfBPmuupWmXRA--SVEHdg1_gwKwTIu_LSZIcYFrOr8TmACBmfB1RPUbhJjSmsHfQH3FJHBGqDL-CXD2CZwNVIAr5gin4p8FnH0CZwMX4I184J8F4B-_jwm4LOBtFHh7FyieLD0Iur2GobQFDAAwSPYnc_X4kiryAqbrtu9drBXoLrBlyrjzReIwqK9kaqAKwJ4oNBjvJEqwC1AgTcpyfYkSbEGwBn_HZ-fCkSbHoAfOVZwCb98RcglQLHNSmgk4U2WLVVsVpoBnyUzFszgRnhjwybH_0aonKwyLpeNXO-J5N1jKwNH5c5YOE4BmALe1UxUIPvpDV0CUAN5mkOgE-43yvsdKWoIwyjr8_YBP6HsnKxxXU8DrAqBbtcPCSRXBFSeQJcatB68A6mrj2-12u1m5jNYltzcBgPnYrH4Srg-BKbHX8fSkFYQn4PjXmMgyAMpYwC7Dp0YFzOexz0bjrxT4Y8A6MYQbLboER_9WxwDy-OcIEMBF8khaAHey7PZ5mYenyUCxpbMXMYBVgDdOFvRYwKFKQgy4igGUmhK7DP9_c4JrTxApokDzgOnqWdNOC6DFxQlQc7-OB2wWkDUBSCrfBrDbiih5WoCmQUoGKQYQ0waI4kYC6gKvF7Vj4Hg6KG4SIoNFa1s_mT0AQK_zEsnRi7vBP7pPaFdkCNZlql6Twgf2HKEnwKVCQbgjlNBAXIh_WIBfzj_gAm9wf9C0gMZ-c73IHoOa9QRFuoYlQD5rN88ptMEJsGOAnSPI126Lor7g7ecDEAHeIPQrwCzAUiCqHRBo5j68vQugHaGcXOkzDWAAiLn5NgD4e4KuaqtSEZeAt27tdYHdEOiX9UQDGLQ_VPjHAq_f2yZsOgWDYNT8kAADiAWtFfgsQSwu-SqEAXlFAUGAFzBljdoQMNDEZ4Xtt7RTjTEUx4RyIpJTsMkdoUIXq8Ruo8QgCfD1BbRTjaDDy9xcnkUHKoDd9FEViEeRvUYoEDMWIJxrAh0OBez1acHVqluPGe8I2YOBrwEAOhixvNhMCoXukxAHBo2rgdMkUB6VPWp87XqNRDaaaLkKBK42rsL6T04BfKWWj7PHnuZEomNYTZ4EQZdHJVj-K_iYHSsgDgNM3kJiKR7B2im04YkI3mnxBqBBmoQB_A_ySiKT0THOWofmdoEdrrrbRwVY-9SDJu1gm-IKNP62F4RcIHjQhXuPkgldTtfXfV-v2sIiSert8WMhuINLetnVuknl6fkBwUcREpZWWNjSsiPqLWRazCHA4uoRE0ADIXvKUYLY5QFqWnqlmhNbouT2PmYitCPljyEaUPgD0Aou5IYMK1vcivmeKbGOuJBAJ-wMkMjeyofEOg9d7bFOswlczdJPPW0GaIyLHJc3Rk-jDCSUuq3JJwHZQrCdDLA8bS5ruQR9OU0q_7IVB4IuEFSHEgpXdu4t_TKWdAOsUITmAwTzCCmgsMM3DVuRS4EI43D4ANYV5l1BpDUVKFWCF5VrDRzJ0sdLwj68BIwvu12PzrGFA9kSYKO-0Vcr5SirFkSqb0fCNaCjYHVrqyTE4A6C-Y7Avd4yoxLXFtY-LQlYOkJIQ1BmsWmqBO7-_ciSIjManf2O2keOR1IkUPmboYDDAkZ18Vjpdcbcg0QGAdbzWR7jV2OddawG3gFufsUs9Vwqlskayccz-ethMDsGjM43FcBwPOY8QXEFIoJzXLkCmIwrK0C49xf4nj1TVJgNBGf4MgVA6NZVIHC08AxngVxhUQr40fd9iWTpKgqQalajBqAn1MV1hPD6gFKB2_82yOuXUSxZgFF7LUCC4DyZk_-gJnnQXGA2C2NKiPX-i4CUBABABvkEAcbRHO2BDGeIP_g21aVMULeBpsJZFFW4AigpZI6nu4NngQjF0JE5ikxRZgDyRGHUjlGazdC4vgrRd1VKzeK_zy1ljqsRCzhIKkGwu6P3gxNiHIsv8BWbtFk5zNxqBuncR27_Z621-SLe37mr357buHHXGlUk0OmP6o3a-2-lD7D7gfPqd7PaD4jnz6jYXKbU7Ov18pQE6qA7YsDvu_wkdKsFJJaA51KtMv81eC8NbZN3752nIUAFqFTItBUwrDm11HTuwlAGE3Dxr2MCb798nntanBF1PEOwBUxVwpNcAabk1jkKAgTwBbvyCuSXByjUDmAPrSkBARaAwjkLyYFZGXqIEICWUcOmwAyK0YkQoG4B_1n5LUYAkhHwmMCs_5UigGkE1WpL5AvA5ppBI2Ced11eybGAkyBKgDOeZSJKgBoKmIeQJYBXAaauoHEIYQLUgK6ANAFqhIFO_ZMvQK0b5IzHUVWus3AyAUVL0CsKZFsAtwG4fKCUoeUKICBbKg-ZAhTkr48Gih0oKwZc_vJDngUU5q-aQLlDZQhQ8_qXmxxNF6A8f9UEiikgrSeotYM1FEgWoJwBKBMjFeaF0u8LlHWBbeJG6Q-WOaA8F1hQblA06_lIYscCZbBOibOMBQrftlvPkTcKIPfgpLoAVlUpG9g9yAwBSt-5XRQo0RCo2rZDenGKOgoU3m-bY1o1FeBoBDtrr6sLJO-8ggKsE0NdZ91_4l85ygr2UhTW_gRniWkoXEdI8MxG6VPjLaBQAsP-qwgE3R4_BxcYC5R1Aoau8LVNgGMscGkF5A6GKmEVIM_PrmwCWxA8qiSLe17gDCUniO7HQVZYT08gYC44g1X4AKsAnTlZEGcHBdMauojF5Cn4Hw4qc-_R7Lt5AAAAAElFTkSuQmCC\n"
          ],
          "name": "stdout"
        },
        {
          "output_type": "execute_result",
          "data": {
            "text/plain": [
              ""
            ]
          },
          "metadata": {
            "tags": []
          },
          "execution_count": 39
        }
      ]
    },
    {
      "cell_type": "markdown",
      "metadata": {
        "id": "gn6M5xSHK-SA",
        "colab_type": "text"
      },
      "source": [
        "## Test batch prediction"
      ]
    },
    {
      "cell_type": "code",
      "metadata": {
        "id": "PPB51r4sFoEX",
        "colab_type": "code",
        "outputId": "4d9021b8-752f-4728-f55c-5c761e762684",
        "colab": {
          "base_uri": "https://localhost:8080/",
          "height": 187
        }
      },
      "source": [
        "%%shell\n",
        "gcloud ai-platform jobs submit prediction batch_pred_test1 \\\n",
        "    --model land_segm \\\n",
        "    --input-paths gs://${BUCKET}/test_batch_pred.tfrec \\\n",
        "    --output-path gs://${BUCKET}/output/ \\\n",
        "    --region us-central1 \\\n",
        "    --data-format TF_RECORD \\\n",
        "    --signature-name serving_batch \\\n",
        "    --version v1"
      ],
      "execution_count": 0,
      "outputs": [
        {
          "output_type": "stream",
          "text": [
            "Job [batch_pred_test1] submitted successfully.\n",
            "Your job is still active. You may view the status of your job with the command\n",
            "\n",
            "  $ gcloud ai-platform jobs describe batch_pred_test1\n",
            "\n",
            "or continue streaming the logs with the command\n",
            "\n",
            "  $ gcloud ai-platform jobs stream-logs batch_pred_test1\n",
            "jobId: batch_pred_test1\n",
            "state: QUEUED\n"
          ],
          "name": "stdout"
        },
        {
          "output_type": "execute_result",
          "data": {
            "text/plain": [
              ""
            ]
          },
          "metadata": {
            "tags": []
          },
          "execution_count": 40
        }
      ]
    },
    {
      "cell_type": "code",
      "metadata": {
        "id": "KKV0SieGvR9_",
        "colab_type": "code",
        "colab": {}
      },
      "source": [
        "# One prediction received from batch\n",
        "batch_prediction = \"iVBORw0KGgoAAAANSUhEUgAAAQAAAAEACAAAAAB5Gfe6AAAMmUlEQVR4nO1daXOrOgwVJDC3Q___Ly2Td6FN3gc2L7It27IRzT0zbbNQ4BwkeUEWzQA8mI33k_GedpzG-sTcT-T3PbJhr3w_NUwCmPxBPzXqURrrP8PwbN0b7yfrE-ASwFYghb9lAWEp_FtofCfrEwC4h08qDRNABPENL12BaeVnXTf9ML6z6I-X5icAUFCANMtqAAC-rI8nlwJxzoKhzd4DN75s_m64TYO6KZsFdHoQ6FL2MTq_QaLX-nku-FxAUyCBv5s9AOBeQKAfNBHGGNAhTSEZAfpgKpB_6VdwBsFuawuT7D-I6bieSfR7tEXhbQW4mPcOjpP7K9JeS3aEcqH5QA9cRh6MAfKaQVjPOqKFy4FIARZwKBDeh0QBeuNv_p48KNYV5kCfGQgU_mt4tltqMRbAH4x7mz_STIkR4ABT9FN30yGvVtQXINDn-9Dma9IPQ5WxZj_goI4edAQwzztdAH0_6nU3wkA1AYwLjx12tGewUuHmbwpQyQVG0_AxR6jT9TGiQI1mEPX60bKBnMGkAbKUXQ0BwiNdFYtJPo-XCTD4G9d8H7Z3ADUswMHfbwAL9z__JR0xdP01QcT0A1b--vn8SdlTXCg5qytsGgDKPwWxkfQkCzD5x8UJN3qEv3-W5hwLoHQ-vu8AkTEgpR09RQCLP2IA3_B9j-PvoB-YppMyHL4BAMDP_v4bYq9_YjdKSivwAACA23N9-73-0JHajeS3gMWcB-2duYnhA8dGt8fW8sXR92CuGQRH5BW-nTMM_gd_gJE-AMzeMBASwCSCjuLiTuj4n-F4_XF8ldb982HpZOAy-IfDXM1zGLsAj9Q9hIMAqoA3CNbjz4Dw5ME-2lBJC2kGP8KbBOG6hW6iBWjhqbz7PQgZwQxt2xqMf5UABAUsyBDgA32ZAOos4u4BQgTgg0-Btm3_Lq-eyodFT4cIjhAYRgsA7Qyg8fcLICV3IAZOE1gnG__-far8JTSDda7_ivZpdI1PFqAq-R3q-OhcATD-H4_jq5R-sTOrFAA291cU8AfB0kHATfBD-c2Izf2PDoGAGGAil7XfBFbsNnByM5g89vOB1BvabECgBeQjlGOvIiDAUHpE_CjXDqyGENDh3uodo-p4OHz-AXuDwIjW4hqKARU6g26WBSKExbfFPqyMR5FQ6IBJ1k2-sZewFUMNCRbjf5o-4Lv6FRUo0x4CgNIoPp9Piz5A-zo5CG6o6QYqWng5vnF9XgfV9GittXo7FgXOmROowJ-QknGeDVT0hxagbrSThsUChCnwE96EjkBXeHUBUQrU5L8Phhqnw_dsS_SIYOWvAl09fnY3-EClwGdeTjkCbHjgMxof-ePm5eIbOw9OiDCmMJPw4FsVC4CGgO0u8qzlCrtCgJgUgSgPGfDz3hZhTXAoswiA0T-H-iNjaawKlwT7vifo5w5muPUO-rVNH-C7gyUm5TcDPQD0M8CWf3jgduz856d5OoPgWZb_A8C2cgQfxZjZxLgAJ5n_g6sLQDz_CWCS1wyyYFx_sHhCqCJzWuhfbupwBMGdQugewT121MsUpR0otWu14dORcmeorAbFgIuACUDwgNx13WfBPmuupWmXRA--SVEHdg1_gwKwTIu_LSZIcYFrOr8TmACBmfB1RPUbhJjSmsHfQH3FJHBGqDL-CXD2CZwNVIAr5gin4p8FnH0CZwMX4I184J8F4B-_jwm4LOBtFHh7FyieLD0Iur2GobQFDAAwSPYnc_X4kiryAqbrtu9drBXoLrBlyrjzReIwqK9kaqAKwJ4oNBjvJEqwC1AgTcpyfYkSbEGwBn_HZ-fCkSbHoAfOVZwCb98RcglQLHNSmgk4U2WLVVsVpoBnyUzFszgRnhjwybH_0aonKwyLpeNXO-J5N1jKwNH5c5YOE4BmALe1UxUIPvpDV0CUAN5mkOgE-43yvsdKWoIwyjr8_YBP6HsnKxxXU8DrAqBbtcPCSRXBFSeQJcatB68A6mrj2-12u1m5jNYltzcBgPnYrH4Srg-BKbHX8fSkFYQn4PjXmMgyAMpYwC7Dp0YFzOexz0bjrxT4Y8A6MYQbLboER_9WxwDy-OcIEMBF8khaAHey7PZ5mYenyUCxpbMXMYBVgDdOFvRYwKFKQgy4igGUmhK7DP9_c4JrTxApokDzgOnqWdNOC6DFxQlQc7-OB2wWkDUBSCrfBrDbiih5WoCmQUoGKQYQ0waI4kYC6gKvF7Vj4Hg6KG4SIoNFa1s_mT0AQK_zEsnRi7vBP7pPaFdkCNZlql6Twgf2HKEnwKVCQbgjlNBAXIh_WIBfzj_gAm9wf9C0gMZ-c73IHoOa9QRFuoYlQD5rN88ptMEJsGOAnSPI126Lor7g7ecDEAHeIPQrwCzAUiCqHRBo5j68vQugHaGcXOkzDWAAiLn5NgD4e4KuaqtSEZeAt27tdYHdEOiX9UQDGLQ_VPjHAq_f2yZsOgWDYNT8kAADiAWtFfgsQSwu-SqEAXlFAUGAFzBljdoQMNDEZ4Xtt7RTjTEUx4RyIpJTsMkdoUIXq8Ruo8QgCfD1BbRTjaDDy9xcnkUHKoDd9FEViEeRvUYoEDMWIJxrAh0OBez1acHVqluPGe8I2YOBrwEAOhixvNhMCoXukxAHBo2rgdMkUB6VPWp87XqNRDaaaLkKBK42rsL6T04BfKWWj7PHnuZEomNYTZ4EQZdHJVj-K_iYHSsgDgNM3kJiKR7B2im04YkI3mnxBqBBmoQB_A_ySiKT0THOWofmdoEdrrrbRwVY-9SDJu1gm-IKNP62F4RcIHjQhXuPkgldTtfXfV-v2sIiSert8WMhuINLetnVuknl6fkBwUcREpZWWNjSsiPqLWRazCHA4uoRE0ADIXvKUYLY5QFqWnqlmhNbouT2PmYitCPljyEaUPgD0Aou5IYMK1vcivmeKbGOuJBAJ-wMkMjeyofEOg9d7bFOswlczdJPPW0GaIyLHJc3Rk-jDCSUuq3JJwHZQrCdDLA8bS5ruQR9OU0q_7IVB4IuEFSHEgpXdu4t_TKWdAOsUITmAwTzCCmgsMM3DVuRS4EI43D4ANYV5l1BpDUVKFWCF5VrDRzJ0sdLwj68BIwvu12PzrGFA9kSYKO-0Vcr5SirFkSqb0fCNaCjYHVrqyTE4A6C-Y7Avd4yoxLXFtY-LQlYOkJIQ1BmsWmqBO7-_ciSIjManf2O2keOR1IkUPmboYDDAkZ18Vjpdcbcg0QGAdbzWR7jV2OddawG3gFufsUs9Vwqlskayccz-ethMDsGjM43FcBwPOY8QXEFIoJzXLkCmIwrK0C49xf4nj1TVJgNBGf4MgVA6NZVIHC08AxngVxhUQr40fd9iWTpKgqQalajBqAn1MV1hPD6gFKB2_82yOuXUSxZgFF7LUCC4DyZk_-gJnnQXGA2C2NKiPX-i4CUBABABvkEAcbRHO2BDGeIP_g21aVMULeBpsJZFFW4AigpZI6nu4NngQjF0JE5ikxRZgDyRGHUjlGazdC4vgrRd1VKzeK_zy1ljqsRCzhIKkGwu6P3gxNiHIsv8BWbtFk5zNxqBuncR27_Z621-SLe37mr357buHHXGlUk0OmP6o3a-2-lD7D7gfPqd7PaD4jnz6jYXKbU7Ov18pQE6qA7YsDvu_wkdKsFJJaA51KtMv81eC8NbZN3752nIUAFqFTItBUwrDm11HTuwlAGE3Dxr2MCb798nntanBF1PEOwBUxVwpNcAabk1jkKAgTwBbvyCuSXByjUDmAPrSkBARaAwjkLyYFZGXqIEICWUcOmwAyK0YkQoG4B_1n5LUYAkhHwmMCs_5UigGkE1WpL5AvA5ppBI2Ced11eybGAkyBKgDOeZSJKgBoKmIeQJYBXAaauoHEIYQLUgK6ANAFqhIFO_ZMvQK0b5IzHUVWus3AyAUVL0CsKZFsAtwG4fKCUoeUKICBbKg-ZAhTkr48Gih0oKwZc_vJDngUU5q-aQLlDZQhQ8_qXmxxNF6A8f9UEiikgrSeotYM1FEgWoJwBKBMjFeaF0u8LlHWBbeJG6Q-WOaA8F1hQblA06_lIYscCZbBOibOMBQrftlvPkTcKIPfgpLoAVlUpG9g9yAwBSt-5XRQo0RCo2rZDenGKOgoU3m-bY1o1FeBoBDtrr6sLJO-8ggKsE0NdZ91_4l85ygr2UhTW_gRniWkoXEdI8MxG6VPjLaBQAsP-qwgE3R4_BxcYC5R1Aoau8LVNgGMscGkF5A6GKmEVIM_PrmwCWxA8qiSLe17gDCUniO7HQVZYT08gYC44g1X4AKsAnTlZEGcHBdMauojF5Cn4Hw4qc-_R7Lt5AAAAAElFTkSuQmCC\""
      ],
      "execution_count": 0,
      "outputs": []
    },
    {
      "cell_type": "code",
      "metadata": {
        "id": "-qMV7fCHviN6",
        "colab_type": "code",
        "outputId": "40e67e50-1af2-4634-f01d-bfc5ee73706a",
        "colab": {
          "base_uri": "https://localhost:8080/",
          "height": 286
        }
      },
      "source": [
        "batch_prediction.encode('utf-8')\n",
        "batch_prediction = tf.io.decode_base64(batch_prediction)\n",
        "batch_prediction = tf.io.decode_png(batch_prediction)\n",
        "plt.imshow(np.squeeze(batch_prediction), vmin=0, vmax=15)"
      ],
      "execution_count": 0,
      "outputs": [
        {
          "output_type": "execute_result",
          "data": {
            "text/plain": [
              "<matplotlib.image.AxesImage at 0x7f0084a2e860>"
            ]
          },
          "metadata": {
            "tags": []
          },
          "execution_count": 42
        },
        {
          "output_type": "display_data",
          "data": {
            "image/png": "[encoded data removed]",
            "text/plain": [
              "<Figure size 432x288 with 1 Axes>"
            ]
          },
          "metadata": {
            "tags": []
          }
        }
      ]
    },
    {
      "cell_type": "markdown",
      "metadata": {
        "id": "H8YPCNCIeJ1o",
        "colab_type": "text"
      },
      "source": [
        "Looks like it works too!"
      ]
    }
  ]
}